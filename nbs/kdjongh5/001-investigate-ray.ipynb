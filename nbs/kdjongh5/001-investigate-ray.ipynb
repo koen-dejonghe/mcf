{
 "cells": [
  {
   "cell_type": "code",
   "execution_count": 1,
   "id": "5911faaf-9ebe-4103-bc47-7059a9ba18dd",
   "metadata": {},
   "outputs": [],
   "source": [
    "%load_ext autoreload\n",
    "%autoreload 2"
   ]
  },
  {
   "cell_type": "code",
   "execution_count": 2,
   "id": "898700e9-ceff-454a-8264-39c2d1daa73f",
   "metadata": {},
   "outputs": [
    {
     "name": "stderr",
     "output_type": "stream",
     "text": [
      "2022-12-21 15:51:11,268\tINFO worker.py:1529 -- Started a local Ray instance. View the dashboard at \u001b[1m\u001b[32m127.0.0.1:8265 \u001b[39m\u001b[22m\n"
     ]
    },
    {
     "data": {
      "text/html": [
       "<div>\n",
       "    <div style=\"margin-left: 50px;display: flex;flex-direction: row;align-items: center\">\n",
       "        <h3 style=\"color: var(--jp-ui-font-color0)\">Ray</h3>\n",
       "        <svg version=\"1.1\" id=\"ray\" width=\"3em\" viewBox=\"0 0 144.5 144.6\" style=\"margin-left: 3em;margin-right: 3em\">\n",
       "            <g id=\"layer-1\">\n",
       "                <path fill=\"#00a2e9\" class=\"st0\" d=\"M97.3,77.2c-3.8-1.1-6.2,0.9-8.3,5.1c-3.5,6.8-9.9,9.9-17.4,9.6S58,88.1,54.8,81.2c-1.4-3-3-4-6.3-4.1\n",
       "                    c-5.6-0.1-9.9,0.1-13.1,6.4c-3.8,7.6-13.6,10.2-21.8,7.6C5.2,88.4-0.4,80.5,0,71.7c0.1-8.4,5.7-15.8,13.8-18.2\n",
       "                    c8.4-2.6,17.5,0.7,22.3,8c1.3,1.9,1.3,5.2,3.6,5.6c3.9,0.6,8,0.2,12,0.2c1.8,0,1.9-1.6,2.4-2.8c3.5-7.8,9.7-11.8,18-11.9\n",
       "                    c8.2-0.1,14.4,3.9,17.8,11.4c1.3,2.8,2.9,3.6,5.7,3.3c1-0.1,2,0.1,3,0c2.8-0.5,6.4,1.7,8.1-2.7s-2.3-5.5-4.1-7.5\n",
       "                    c-5.1-5.7-10.9-10.8-16.1-16.3C84,38,81.9,37.1,78,38.3C66.7,42,56.2,35.7,53,24.1C50.3,14,57.3,2.8,67.7,0.5\n",
       "                    C78.4-2,89,4.7,91.5,15.3c0.1,0.3,0.1,0.5,0.2,0.8c0.7,3.4,0.7,6.9-0.8,9.8c-1.7,3.2-0.8,5,1.5,7.2c6.7,6.5,13.3,13,19.8,19.7\n",
       "                    c1.8,1.8,3,2.1,5.5,1.2c9.1-3.4,17.9-0.6,23.4,7c4.8,6.9,4.6,16.1-0.4,22.9c-5.4,7.2-14.2,9.9-23.1,6.5c-2.3-0.9-3.5-0.6-5.1,1.1\n",
       "                    c-6.7,6.9-13.6,13.7-20.5,20.4c-1.8,1.8-2.5,3.2-1.4,5.9c3.5,8.7,0.3,18.6-7.7,23.6c-7.9,5-18.2,3.8-24.8-2.9\n",
       "                    c-6.4-6.4-7.4-16.2-2.5-24.3c4.9-7.8,14.5-11,23.1-7.8c3,1.1,4.7,0.5,6.9-1.7C91.7,98.4,98,92.3,104.2,86c1.6-1.6,4.1-2.7,2.6-6.2\n",
       "                    c-1.4-3.3-3.8-2.5-6.2-2.6C99.8,77.2,98.9,77.2,97.3,77.2z M72.1,29.7c5.5,0.1,9.9-4.3,10-9.8c0-0.1,0-0.2,0-0.3\n",
       "                    C81.8,14,77,9.8,71.5,10.2c-5,0.3-9,4.2-9.3,9.2c-0.2,5.5,4,10.1,9.5,10.3C71.8,29.7,72,29.7,72.1,29.7z M72.3,62.3\n",
       "                    c-5.4-0.1-9.9,4.2-10.1,9.7c0,0.2,0,0.3,0,0.5c0.2,5.4,4.5,9.7,9.9,10c5.1,0.1,9.9-4.7,10.1-9.8c0.2-5.5-4-10-9.5-10.3\n",
       "                    C72.6,62.3,72.4,62.3,72.3,62.3z M115,72.5c0.1,5.4,4.5,9.7,9.8,9.9c5.6-0.2,10-4.8,10-10.4c-0.2-5.4-4.6-9.7-10-9.7\n",
       "                    c-5.3-0.1-9.8,4.2-9.9,9.5C115,72.1,115,72.3,115,72.5z M19.5,62.3c-5.4,0.1-9.8,4.4-10,9.8c-0.1,5.1,5.2,10.4,10.2,10.3\n",
       "                    c5.6-0.2,10-4.9,9.8-10.5c-0.1-5.4-4.5-9.7-9.9-9.6C19.6,62.3,19.5,62.3,19.5,62.3z M71.8,134.6c5.9,0.2,10.3-3.9,10.4-9.6\n",
       "                    c0.5-5.5-3.6-10.4-9.1-10.8c-5.5-0.5-10.4,3.6-10.8,9.1c0,0.5,0,0.9,0,1.4c-0.2,5.3,4,9.8,9.3,10\n",
       "                    C71.6,134.6,71.7,134.6,71.8,134.6z\"/>\n",
       "            </g>\n",
       "        </svg>\n",
       "        <table>\n",
       "            <tr>\n",
       "                <td style=\"text-align: left\"><b>Python version:</b></td>\n",
       "                <td style=\"text-align: left\"><b>3.10.8</b></td>\n",
       "            </tr>\n",
       "            <tr>\n",
       "                <td style=\"text-align: left\"><b>Ray version:</b></td>\n",
       "                <td style=\"text-align: left\"><b> 2.2.0</b></td>\n",
       "            </tr>\n",
       "            <tr>\n",
       "    <td style=\"text-align: left\"><b>Dashboard:</b></td>\n",
       "    <td style=\"text-align: left\"><b><a href=\"http://127.0.0.1:8265\" target=\"_blank\">http://127.0.0.1:8265</a></b></td>\n",
       "</tr>\n",
       "\n",
       "        </table>\n",
       "    </div>\n",
       "</div>\n"
      ],
      "text/plain": [
       "RayContext(dashboard_url='127.0.0.1:8265', python_version='3.10.8', ray_version='2.2.0', ray_commit='b6af0887ee5f2e460202133791ad941a41f15beb', address_info={'node_ip_address': '127.0.0.1', 'raylet_ip_address': '127.0.0.1', 'redis_address': None, 'object_store_address': '/tmp/ray/session_2022-12-21_15-51-08_069962_87195/sockets/plasma_store', 'raylet_socket_name': '/tmp/ray/session_2022-12-21_15-51-08_069962_87195/sockets/raylet', 'webui_url': '127.0.0.1:8265', 'session_dir': '/tmp/ray/session_2022-12-21_15-51-08_069962_87195', 'metrics_export_port': 64155, 'gcs_address': '127.0.0.1:64964', 'address': '127.0.0.1:64964', 'dashboard_agent_listen_port': 52365, 'node_id': 'c383cb1cf21ebdc36e84d17329dbfc91c2b710f34f8bfcf6f1cb4444'})"
      ]
     },
     "execution_count": 2,
     "metadata": {},
     "output_type": "execute_result"
    }
   ],
   "source": [
    "import ray\n",
    "\n",
    "ray.init(object_store_memory=10**9)"
   ]
  },
  {
   "cell_type": "code",
   "execution_count": 3,
   "id": "93851f9e-f4be-40d1-be5c-82c81bb01b3c",
   "metadata": {},
   "outputs": [],
   "source": [
    "from mcf import modified_causal_forest"
   ]
  },
  {
   "cell_type": "code",
   "execution_count": 4,
   "id": "537c7f55-e4d7-4419-b1f9-768cc2920d24",
   "metadata": {},
   "outputs": [],
   "source": [
    "outpfad =(\"./work\")\n",
    "datpfad =(\"./data/vdab\")\n",
    "indata = 'tibb_mcf_50000'     "
   ]
  },
  {
   "cell_type": "code",
   "execution_count": 5,
   "id": "c0b2e1a3-5a85-4cc9-af51-426df05af56b",
   "metadata": {},
   "outputs": [],
   "source": [
    "d_name = [\"treat\"]  # Treatment\n",
    "y_name = [\"w8\"]  # List of outcome variables\n",
    "x_name_unord = [\"jaar_actie\"]\n",
    "x_name_ord = [\n",
    "    \"duur_berekend\",\n",
    "    \"ARBEIDSBEPERKING\",\n",
    "    \"INBURGERAAR\",\n",
    "    \"KWETSBAAR_BIU\",\n",
    "    \"sex\",\n",
    "    \"age\",\n",
    "    \"city\",\n",
    "    \"aalst\",\n",
    "    \"Antwerpen\",\n",
    "    \"Brugge\",\n",
    "    \"Dendermonde\",\n",
    "    \"Eeklo\",\n",
    "    \"Gent\",\n",
    "    \"Hasselt\",\n",
    "    \"Ieper\",\n",
    "    \"Kortrijk\",\n",
    "    \"Leuven\",\n",
    "    \"Maaseik\",\n",
    "    \"Mechelen\",\n",
    "    \"Oostende\",\n",
    "    \"Oudenaarde\",\n",
    "    \"Roeselare\",\n",
    "    \"Sintniklaas\",\n",
    "    \"Tielt\",\n",
    "    \"Tongeren\",\n",
    "    \"Turnhout\",\n",
    "    \"Vilvoorde\",\n",
    "    \"nietvlaanderen\",\n",
    "] \n",
    "z_name_list = [\"onderwijs\", \"leeftijd\", \"wkldr\"]"
   ]
  },
  {
   "cell_type": "code",
   "execution_count": null,
   "id": "a54d5a81-cbb1-419d-b630-f895fa24e507",
   "metadata": {
    "tags": []
   },
   "outputs": [
    {
     "name": "stderr",
     "output_type": "stream",
     "text": [
      "\u001b[2m\u001b[36m(raylet)\u001b[0m Spilled 2118 MiB, 448 objects, write throughput 351 MiB/s. Set RAY_verbose_spill_logs=0 to disable this message.\n",
      "\u001b[2m\u001b[36m(raylet)\u001b[0m Spilled 4135 MiB, 1017 objects, write throughput 564 MiB/s.\n",
      "\u001b[2m\u001b[36m(raylet)\u001b[0m Spilled 8242 MiB, 2140 objects, write throughput 809 MiB/s.\n"
     ]
    }
   ],
   "source": [
    "%%time\n",
    "result = modified_causal_forest(\n",
    "    outpfad=outpfad, datpfad=datpfad, indata=indata,\n",
    "    d_name=d_name, \n",
    "    y_name=y_name,\n",
    "    x_name_unord=x_name_unord, \n",
    "    x_name_ord=x_name_ord,\n",
    "    z_name_list=z_name_list,\n",
    "    # reduce_prediction=True,\n",
    "    _with_output=False,\n",
    "    _mp_ray_shutdown=False,\n",
    "    mp_parallel=4,\n",
    "    _mp_ray_objstore_multiplier=1000\n",
    ")"
   ]
  },
  {
   "cell_type": "code",
   "execution_count": null,
   "id": "4a008f05-92d0-4e72-b84e-f175c4c38f76",
   "metadata": {},
   "outputs": [],
   "source": []
  }
 ],
 "metadata": {
  "kernelspec": {
   "display_name": "mcf",
   "language": "python",
   "name": "mcf"
  },
  "language_info": {
   "codemirror_mode": {
    "name": "ipython",
    "version": 3
   },
   "file_extension": ".py",
   "mimetype": "text/x-python",
   "name": "python",
   "nbconvert_exporter": "python",
   "pygments_lexer": "ipython3",
   "version": "3.10.8"
  }
 },
 "nbformat": 4,
 "nbformat_minor": 5
}
